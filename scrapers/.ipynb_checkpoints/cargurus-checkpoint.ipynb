{
 "cells": [
  {
   "cell_type": "code",
   "execution_count": 1,
   "metadata": {
    "collapsed": true
   },
   "outputs": [],
   "source": [
    "import requests\n",
    "import json\n",
    "import pandas as pd\n",
    "from random import randint\n",
    "import time\n",
    "import timeit\n",
    "import glob\n",
    "\n",
    "datestr = time.strftime(\"%Y%m%d\")"
   ]
  },
  {
   "cell_type": "code",
   "execution_count": 2,
   "metadata": {},
   "outputs": [],
   "source": [
    "zipcodes = pd.read_csv('https://gist.githubusercontent.com/erichurst/7882666/raw/5bdc46db47d9515269ab12ed6fb2850377fd869e/US%2520Zip%2520Codes%2520from%25202013%2520Government%2520Data')\n",
    "zipcodes.ZIP = [str(x).zfill(5) for x in zipcodes.ZIP]"
   ]
  },
  {
   "cell_type": "code",
   "execution_count": 4,
   "metadata": {
    "collapsed": true
   },
   "outputs": [],
   "source": [
    "def getCoords(zipcode):\n",
    "    lat = zipcodes[zipcodes.ZIP==zipcode].LAT.values[0]\n",
    "    lng = zipcodes[zipcodes.ZIP==zipcode].LNG.values[0]\n",
    "    return [lat,lng]"
   ]
  },
  {
   "cell_type": "code",
   "execution_count": 22,
   "metadata": {},
   "outputs": [],
   "source": [
    "# create function to return .json results from carmax hidden API\n",
    "def cargurus(zipcode,dist='all',page_num=1):\n",
    "    \n",
    "    coords = getCoords(zipcode)\n",
    "    \n",
    "    options = dict(\n",
    "        lat = coords[0],\n",
    "        lng = coords[1],\n",
    "        pagenum = page_num,\n",
    "        dist = dist\n",
    "        )\n",
    "    \n",
    "# https://api.carmax.com/v1/api/vehicles?Distance=50&PerPage=20&SortKey=0&StartIndex=40&ExposedDimensions=249+250+1001+1000+265+999+772&ExposedCategories=249+250+1001+1000+265+999+772&Refinements=&Page=3&Zip=40003&platform=carmax.com&apikey=adfb3ba2-b212-411e-89e1-35adab91b600\n",
    "    \n",
    "    json_url = 'https://www.cargurus.com/Cars/inventorylisting/ajaxFetchSubsetInventoryListing.action?\\\n",
    "    sourceContext=forSaleTab_false_0/\\\n",
    "    zip=&\\\n",
    "    address=&\\\n",
    "    latitude={lat}&\\\n",
    "    longitude={lng}&\\\n",
    "    distance={dist}&\\\n",
    "    selectedEntity=&\\\n",
    "    entitySelectingHelper.selectedEntity2=&\\\n",
    "    minPrice=&\\\n",
    "    maxPrice=&\\\n",
    "    minMileage=&\\\n",
    "    maxMileage=&\\\n",
    "    transmission=ANY&\\\n",
    "    bodyTypeGroup=&\\\n",
    "    serviceProvider=&\\\n",
    "    page={pagenum}&\\\n",
    "    filterBySourcesString=&\\\n",
    "    filterFeaturedBySourcesString=&\\\n",
    "    displayFeaturedListings=true&\\\n",
    "    searchSeoPageType=&\\\n",
    "    inventorySearchWidgetType=AUTO&\\\n",
    "    allYearsForTrimName=false&\\\n",
    "    daysOnMarketMin=&\\\n",
    "    daysOnMarketMax=&\\\n",
    "    vehicleDamageCategoriesRaw=&\\\n",
    "    minCo2Emission=&\\\n",
    "    maxCo2Emission=&\\\n",
    "    vatOnly=false&\\\n",
    "    minEngineDisplacement=&\\\n",
    "    maxEngineDisplacement=&\\\n",
    "    minMpg=&\\\n",
    "    maxMpg=&\\\n",
    "    isRecentSearchView=false'.format(**options).replace(' ','')\n",
    "      \n",
    "    raw = requests.get(json_url).text\n",
    "    data = json.loads(raw)\n",
    "    \n",
    "    return data"
   ]
  },
  {
   "cell_type": "code",
   "execution_count": 129,
   "metadata": {},
   "outputs": [],
   "source": [
    "def getData(min_zip='00000',max_zip='99999',pages=5,dist='all'):\n",
    "    ziplist = zipcodes[(zipcodes.ZIP >= min_zip) & (zipcodes.ZIP <= max_zip)].ZIP.values\n",
    "    \n",
    "    df = pd.DataFrame(cargurus('10543',dist=dist,page_num=1)['listings'])\n",
    "    for zipcode in ziplist: #zipcodes.ZIP.values:\n",
    "        for i in range(0,pages):\n",
    "            print(\"Zipcode: \"+zipcode+'; Page #'+str(i+1))\n",
    "            df = pd.concat([df,pd.DataFrame(cargurus(zipcode,dist=dist,page_num=1+i)['listings'])])\n",
    "        df.drop_duplicates(inplace=True,subset=['vehicleIdentifier'])\n",
    "        \n",
    "    return df"
   ]
  },
  {
   "cell_type": "code",
   "execution_count": null,
   "metadata": {
    "scrolled": true
   },
   "outputs": [
    {
     "name": "stdout",
     "output_type": "stream",
     "text": [
      "Zipcode: 10001; Page #1\n",
      "Zipcode: 10001; Page #2\n",
      "Zipcode: 10001; Page #3\n",
      "Zipcode: 10002; Page #1\n",
      "Zipcode: 10002; Page #2\n",
      "Zipcode: 10002; Page #3\n",
      "Zipcode: 10003; Page #1\n",
      "Zipcode: 10003; Page #2\n",
      "Zipcode: 10003; Page #3\n",
      "Zipcode: 10004; Page #1\n",
      "Zipcode: 10004; Page #2\n",
      "Zipcode: 10004; Page #3\n",
      "Zipcode: 10005; Page #1\n",
      "Zipcode: 10005; Page #2\n",
      "Zipcode: 10005; Page #3\n",
      "Zipcode: 10006; Page #1\n",
      "Zipcode: 10006; Page #2\n",
      "Zipcode: 10006; Page #3\n",
      "Zipcode: 10007; Page #1\n",
      "Zipcode: 10007; Page #2\n",
      "Zipcode: 10007; Page #3\n",
      "Zipcode: 10009; Page #1\n",
      "Zipcode: 10009; Page #2\n",
      "Zipcode: 10009; Page #3\n",
      "Zipcode: 10010; Page #1\n",
      "Zipcode: 10010; Page #2\n",
      "Zipcode: 10010; Page #3\n",
      "Zipcode: 10011; Page #1\n",
      "Zipcode: 10011; Page #2\n",
      "Zipcode: 10011; Page #3\n",
      "Zipcode: 10012; Page #1\n",
      "Zipcode: 10012; Page #2\n",
      "Zipcode: 10012; Page #3\n",
      "Zipcode: 10013; Page #1\n",
      "Zipcode: 10013; Page #2\n",
      "Zipcode: 10013; Page #3\n",
      "Zipcode: 10014; Page #1\n",
      "Zipcode: 10014; Page #2\n",
      "Zipcode: 10014; Page #3\n",
      "Zipcode: 10016; Page #1\n",
      "Zipcode: 10016; Page #2\n",
      "Zipcode: 10016; Page #3\n",
      "Zipcode: 10017; Page #1\n",
      "Zipcode: 10017; Page #2\n"
     ]
    }
   ],
   "source": [
    "cars = getData(min_zip='10000',max_zip='20000',pages=3,dist='all')\n",
    "cars.to_pickle('10000_20000.pkl')"
   ]
  },
  {
   "cell_type": "code",
   "execution_count": null,
   "metadata": {
    "collapsed": true
   },
   "outputs": [],
   "source": []
  }
 ],
 "metadata": {
  "kernelspec": {
   "display_name": "Python 3",
   "language": "python",
   "name": "python3"
  },
  "language_info": {
   "codemirror_mode": {
    "name": "ipython",
    "version": 3
   },
   "file_extension": ".py",
   "mimetype": "text/x-python",
   "name": "python",
   "nbconvert_exporter": "python",
   "pygments_lexer": "ipython3",
   "version": "3.6.0"
  }
 },
 "nbformat": 4,
 "nbformat_minor": 2
}
