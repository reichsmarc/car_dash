{
 "cells": [
  {
   "cell_type": "code",
   "execution_count": 13,
   "metadata": {
    "collapsed": true
   },
   "outputs": [],
   "source": [
    "import requests\n",
    "import json\n",
    "import pandas as pd\n",
    "from random import randint\n",
    "import time\n",
    "import timeit\n",
    "import glob\n",
    "\n",
    "datestr = time.strftime(\"%Y%m%d\")"
   ]
  },
  {
   "cell_type": "code",
   "execution_count": 14,
   "metadata": {
    "collapsed": true,
    "scrolled": true
   },
   "outputs": [],
   "source": [
    "# create function to return .json results from carmax hidden API\n",
    "def carmax(pagenum,per_page=50):\n",
    "    options = dict(\n",
    "        page = pagenum,\n",
    "        perpage = per_page,\n",
    "        startindex = pagenum*per_page-per_page,\n",
    "        zipcode = 10022,\n",
    "        key = \"adfb3ba2-b212-411e-89e1-35adab91b600\")\n",
    "    \n",
    "# https://api.carmax.com/v1/api/vehicles?Distance=50&PerPage=20&SortKey=0&StartIndex=40&ExposedDimensions=249+250+1001+1000+265+999+772&ExposedCategories=249+250+1001+1000+265+999+772&Refinements=&Page=3&Zip=40003&platform=carmax.com&apikey=adfb3ba2-b212-411e-89e1-35adab91b600\n",
    "    \n",
    "    json_url = \"https://api.carmax.com/v1/api/vehicles?\\\n",
    "                Distance=All&\\\n",
    "                PerPage={perpage}&\\\n",
    "                StartIndex={startindex}&\\\n",
    "                SortKey=0&\\\n",
    "                ExposedDimensions=249+250+1001+1000+265+999+772&\\\n",
    "                ExposedCategories=249+250+1001+1000+265+999+772&\\\n",
    "                Refinements=&\\\n",
    "                Page={page}&\\\n",
    "                Zip={zipcode}&\\\n",
    "                platform=carmax.com&\\\n",
    "                apikey={key}\".format(**options).replace(\" \",\"\")\n",
    "      \n",
    "    raw = requests.get(json_url).text\n",
    "    data = json.loads(raw)\n",
    "    \n",
    "    return data"
   ]
  },
  {
   "cell_type": "code",
   "execution_count": 15,
   "metadata": {},
   "outputs": [
    {
     "name": "stdout",
     "output_type": "stream",
     "text": [
      "Beginning CarMax.com scrape...\n",
      "# Listings: 68139\n",
      "# Pages: 1364\n"
     ]
    }
   ],
   "source": [
    "print(\"Beginning CarMax.com scrape...\")\n",
    "\n",
    "listings = carmax(1)['ResultCount'] # return results for first page\n",
    "print(\"# Listings:\",listings)\n",
    "\n",
    "pages = listings//50+2\n",
    "print(\"# Pages:\",pages)"
   ]
  },
  {
   "cell_type": "code",
   "execution_count": 16,
   "metadata": {
    "scrolled": true
   },
   "outputs": [
    {
     "name": "stdout",
     "output_type": "stream",
     "text": [
      "Page 1 scraped: 0.27 sec. elapsed; 0.07 % complete...\n",
      "Page 2 scraped: 0.63 sec. elapsed; 0.15 % complete...\n",
      "Page 3 scraped: 0.72 sec. elapsed; 0.22 % complete...\n",
      "Page 4 scraped: 0.55 sec. elapsed; 0.29 % complete...\n",
      "Scrape complete; 2.18 sec. elapsed.\n"
     ]
    }
   ],
   "source": [
    "# create cars dataframe to store scraped results\n",
    "cars = pd.DataFrame(carmax(1)['Results'])\n",
    "\n",
    "t0 = timeit.default_timer() # start timer\n",
    "for i in range(1,5): #pages\n",
    "    t1 = timeit.default_timer()\n",
    "    \n",
    "    df = pd.DataFrame(carmax(i)['Results'])\n",
    "    cars = pd.concat([cars,df])\n",
    "#     df.to_json('data/'+datestr+'_'+str(i).zfill(4)+'.json')   \n",
    "#     time.sleep(randint(1,10)/10) # add random delay\n",
    "    \n",
    "    print(\"Page\",i,\"scraped:\",round(timeit.default_timer()-t1,2),\"sec. elapsed;\",round(i/pages*100,2),\"% complete...\")  \n",
    "print(\"Scrape complete;\",round(timeit.default_timer() - t0,2),\"sec. elapsed.\")"
   ]
  },
  {
   "cell_type": "code",
   "execution_count": 17,
   "metadata": {
    "collapsed": true
   },
   "outputs": [],
   "source": [
    "path = !pwd"
   ]
  },
  {
   "cell_type": "code",
   "execution_count": 18,
   "metadata": {},
   "outputs": [],
   "source": [
    "# pickle results\n",
    "cars.to_pickle(path[0]+'/../data/carmax/'+datestr+'.pkl')"
   ]
  }
 ],
 "metadata": {
  "kernelspec": {
   "display_name": "Python 3",
   "language": "python",
   "name": "python3"
  },
  "language_info": {
   "codemirror_mode": {
    "name": "ipython",
    "version": 3
   },
   "file_extension": ".py",
   "mimetype": "text/x-python",
   "name": "python",
   "nbconvert_exporter": "python",
   "pygments_lexer": "ipython3",
   "version": "3.6.0"
  }
 },
 "nbformat": 4,
 "nbformat_minor": 2
}
