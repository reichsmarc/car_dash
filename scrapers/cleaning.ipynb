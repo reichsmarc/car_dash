{
 "cells": [
  {
   "cell_type": "code",
   "execution_count": 1,
   "metadata": {
    "collapsed": true
   },
   "outputs": [],
   "source": [
    "import requests\n",
    "import json\n",
    "import pandas as pd\n",
    "from random import randint\n",
    "import time\n",
    "import timeit"
   ]
  },
  {
   "cell_type": "code",
   "execution_count": 2,
   "metadata": {},
   "outputs": [
    {
     "name": "stdout",
     "output_type": "stream",
     "text": [
      "20180103_carmax.pkl  cleaning.ipynb       scraper_script.ipynb\r\n"
     ]
    }
   ],
   "source": [
    "!ls"
   ]
  },
  {
   "cell_type": "code",
   "execution_count": 5,
   "metadata": {
    "scrolled": false
   },
   "outputs": [],
   "source": [
    "cars = pd.read_pickle('20180103_carmax.pkl')"
   ]
  },
  {
   "cell_type": "code",
   "execution_count": 6,
   "metadata": {},
   "outputs": [
    {
     "data": {
      "text/plain": [
       "Index(['AverageRating', 'Cylinders', 'Description', 'DriveTrain', 'EngineSize',\n",
       "       'ExteriorColor', 'Highlights', 'InteriorColor', 'IsNew', 'IsNewArrival',\n",
       "       'IsSaleable', 'IsSaved', 'IsSold', 'IsTransferable',\n",
       "       'LastMadeSaleableDate', 'Links', 'LotLocation', 'Make', 'Miles',\n",
       "       'Model', 'MpgCity', 'MpgHighway', 'NewTireCount', 'NumberOfReviews',\n",
       "       'PhotoCount', 'PhotoUrl', 'Price', 'StockNumber', 'StoreCityName',\n",
       "       'StoreId', 'StoreName', 'StoreStateAbbreviation', 'TransferType',\n",
       "       'Transmission', 'Vin', 'Year'],\n",
       "      dtype='object')"
      ]
     },
     "execution_count": 6,
     "metadata": {},
     "output_type": "execute_result"
    }
   ],
   "source": [
    "cars.columns"
   ]
  },
  {
   "cell_type": "code",
   "execution_count": 12,
   "metadata": {},
   "outputs": [
    {
     "data": {
      "text/plain": [
       "50"
      ]
     },
     "execution_count": 12,
     "metadata": {},
     "output_type": "execute_result"
    }
   ],
   "source": [
    "len(cars.StockNumber.unique())"
   ]
  }
 ],
 "metadata": {
  "kernelspec": {
   "display_name": "Python 3",
   "language": "python",
   "name": "python3"
  },
  "language_info": {
   "codemirror_mode": {
    "name": "ipython",
    "version": 3
   },
   "file_extension": ".py",
   "mimetype": "text/x-python",
   "name": "python",
   "nbconvert_exporter": "python",
   "pygments_lexer": "ipython3",
   "version": "3.6.0"
  }
 },
 "nbformat": 4,
 "nbformat_minor": 2
}
