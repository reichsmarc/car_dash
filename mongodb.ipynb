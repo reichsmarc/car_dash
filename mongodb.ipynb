{
 "cells": [
  {
   "cell_type": "code",
   "execution_count": 10,
   "metadata": {
    "collapsed": true
   },
   "outputs": [],
   "source": [
    "import requests\n",
    "import json\n",
    "import pandas as pd\n",
    "import time\n",
    "import timeit\n",
    "from pymongo import MongoClient\n",
    "import glob\n",
    "\n",
    "datestr = time.strftime(\"%Y%m%d\")\n",
    "client = MongoClient()"
   ]
  },
  {
   "cell_type": "code",
   "execution_count": 11,
   "metadata": {
    "collapsed": true
   },
   "outputs": [],
   "source": [
    "path = !pwd"
   ]
  },
  {
   "cell_type": "code",
   "execution_count": 17,
   "metadata": {},
   "outputs": [
    {
     "name": "stdout",
     "output_type": "stream",
     "text": [
      "123960 cars loaded\n",
      "186376 cars loaded\n",
      "259602 cars loaded\n",
      "440192 cars loaded\n",
      "585946 cars loaded\n",
      "638840 cars loaded\n",
      "714321 cars loaded\n",
      "781506 cars loaded\n",
      "897128 cars loaded\n",
      "988985 cars loaded\n",
      "1088380 cars loaded\n",
      "1161126 cars loaded\n",
      "1242871 cars loaded\n",
      "1342494 cars loaded\n",
      "1418490 cars loaded\n",
      "1530629 cars loaded\n",
      "1631568 cars loaded\n",
      "1764745 cars loaded\n",
      "1830251 cars loaded\n",
      "CarGurus: 1830251 cars loaded\n"
     ]
    }
   ],
   "source": [
    "#cargurus\n",
    "cargurus_dir = glob.glob(path[0]+'/scrapers/data/cargurus/*.pkl')\n",
    "\n",
    "cargurus_dict = dict()\n",
    "for file in cargurus_dir:\n",
    "    df = pd.read_pickle(file)\n",
    "    for index,car in df.iterrows():\n",
    "        cargurus_dict[car.vehicleIdentifier] = car\n",
    "    \n",
    "    print(len(cargurus_dict.keys()),'cars loaded')\n",
    "\n",
    "print('CarGurus:',len(cargurus_dict.keys()),'cars loaded')"
   ]
  },
  {
   "cell_type": "code",
   "execution_count": 21,
   "metadata": {
    "collapsed": true
   },
   "outputs": [],
   "source": [
    "db = client.cargurus"
   ]
  },
  {
   "cell_type": "code",
   "execution_count": 26,
   "metadata": {
    "collapsed": true
   },
   "outputs": [],
   "source": [
    "collection = db.alldata"
   ]
  },
  {
   "cell_type": "code",
   "execution_count": 37,
   "metadata": {},
   "outputs": [
    {
     "name": "stderr",
     "output_type": "stream",
     "text": [
      "/Users/marc/anaconda/lib/python3.6/site-packages/ipykernel_launcher.py:1: DeprecationWarning: insert is deprecated. Use insert_one or insert_many instead.\n",
      "  \"\"\"Entry point for launching an IPython kernel.\n"
     ]
    },
    {
     "ename": "InvalidDocument",
     "evalue": "Cannot encode object: absoluteRating                                                                 0\nautoEntityId                                                              t54886\nbed                                                                          NaN\nbedStepside                                                                  NaN\nbodyType                                                                   Sedan\nbodyTypeGroupId                                                                6\nbodyTypeGroupName                                                          Sedan\nbodyTypeId                                                                    33\ncabin                                                                        NaN\ncarYear                                                                     2015\ncityFuelEconomy                                                              NaN\ncontacted                                                                  False\ndaysOnMarket                                                                 234\ndealScore                                                                1.52644\ndealerRatingPriceAdjustment                                                    0\ndistance                                                                       5\ndoors                                                                        NaN\nengineCylinders                                                               I4\nengineDisplacement                                                           2.5\nengineType                                                                    I4\nexpectedPrice                                                              16209\nexpectedPriceString                                                      $16,209\nexteriorColorName                                                          Brown\nfeaturedListingPartnerId                                                     NaN\nfleet                                                                      False\nframeDamaged                                                               False\nfranchiseMake                                                          Chevrolet\nfuelType                                                                       2\nhasAccidents                                                               False\nhighwayFuelEconomy                                                           NaN\n                                                     ...                        \npriceDifferentialString                                                   $2,211\npriceString                                                              $13,998\nrating                                                                         1\nrearWheel                                                                    NaN\nregressionPrice                                                            13998\nrootServiceProviderId                                                        NaN\nsalvage                                                                    False\nsaved                                                                      False\nsavingsAmount                                                               2211\nsavingsArrowImage              https://static1.cargurus.com/gfx/cargurus/inve...\nsavingsRecommendation                                                 Great Deal\nscaleMainPictureOnLoad                                                     False\nsellerCity                                                        Montgomery, WV\nsellerId                                                                 1011642\nsellerRating                                                                 NaN\nserviceProviderId                                                         402921\nserviceProviderName                                             Bridge Chevrolet\nspecificOptionIds                                                             []\nstyle                                                                        NaN\ntheftTitle                                                                 False\ntraction                                                                     NaN\ntransmission                                                                   A\ntrimLevelName                                                                   \ntrimName                                                                     LT2\nuseAnonymousContactEmail                                                   False\nvehicleDamageCategory                                                       None\nvehicleIdentifier                                              1G11D5SLXFF252351\nwheelSystem                                                                  FWD\nwheelSystemDisplay                                             Front-Wheel Drive\nzip                                                                        25040\nName: 0, Length: 92, dtype: object",
     "output_type": "error",
     "traceback": [
      "\u001b[0;31m---------------------------------------------------------------------------\u001b[0m",
      "\u001b[0;31mInvalidDocument\u001b[0m                           Traceback (most recent call last)",
      "\u001b[0;32m<ipython-input-37-4b4d1aa4eebb>\u001b[0m in \u001b[0;36m<module>\u001b[0;34m()\u001b[0m\n\u001b[0;32m----> 1\u001b[0;31m \u001b[0mcollection\u001b[0m\u001b[0;34m.\u001b[0m\u001b[0minsert\u001b[0m\u001b[0;34m(\u001b[0m\u001b[0mcargurus_dict\u001b[0m\u001b[0;34m)\u001b[0m\u001b[0;34m\u001b[0m\u001b[0m\n\u001b[0m",
      "\u001b[0;32m~/anaconda/lib/python3.6/site-packages/pymongo/collection.py\u001b[0m in \u001b[0;36minsert\u001b[0;34m(self, doc_or_docs, manipulate, check_keys, continue_on_error, **kwargs)\u001b[0m\n\u001b[1;32m   2467\u001b[0m         \u001b[0;32mwith\u001b[0m \u001b[0mself\u001b[0m\u001b[0;34m.\u001b[0m\u001b[0m_socket_for_writes\u001b[0m\u001b[0;34m(\u001b[0m\u001b[0;34m)\u001b[0m \u001b[0;32mas\u001b[0m \u001b[0msock_info\u001b[0m\u001b[0;34m:\u001b[0m\u001b[0;34m\u001b[0m\u001b[0m\n\u001b[1;32m   2468\u001b[0m             return self._insert(sock_info, doc_or_docs, not continue_on_error,\n\u001b[0;32m-> 2469\u001b[0;31m                                 check_keys, manipulate, write_concern)\n\u001b[0m\u001b[1;32m   2470\u001b[0m \u001b[0;34m\u001b[0m\u001b[0m\n\u001b[1;32m   2471\u001b[0m     def update(self, spec, document, upsert=False, manipulate=False,\n",
      "\u001b[0;32m~/anaconda/lib/python3.6/site-packages/pymongo/collection.py\u001b[0m in \u001b[0;36m_insert\u001b[0;34m(self, sock_info, docs, ordered, check_keys, manipulate, write_concern, op_id, bypass_doc_val)\u001b[0m\n\u001b[1;32m    560\u001b[0m             return self._insert_one(\n\u001b[1;32m    561\u001b[0m                 \u001b[0msock_info\u001b[0m\u001b[0;34m,\u001b[0m \u001b[0mdocs\u001b[0m\u001b[0;34m,\u001b[0m \u001b[0mordered\u001b[0m\u001b[0;34m,\u001b[0m\u001b[0;34m\u001b[0m\u001b[0m\n\u001b[0;32m--> 562\u001b[0;31m                 check_keys, manipulate, write_concern, op_id, bypass_doc_val)\n\u001b[0m\u001b[1;32m    563\u001b[0m \u001b[0;34m\u001b[0m\u001b[0m\n\u001b[1;32m    564\u001b[0m         \u001b[0mids\u001b[0m \u001b[0;34m=\u001b[0m \u001b[0;34m[\u001b[0m\u001b[0;34m]\u001b[0m\u001b[0;34m\u001b[0m\u001b[0m\n",
      "\u001b[0;32m~/anaconda/lib/python3.6/site-packages/pymongo/collection.py\u001b[0m in \u001b[0;36m_insert_one\u001b[0;34m(self, sock_info, doc, ordered, check_keys, manipulate, write_concern, op_id, bypass_doc_val)\u001b[0m\n\u001b[1;32m    541\u001b[0m                 \u001b[0mcommand\u001b[0m\u001b[0;34m,\u001b[0m\u001b[0;34m\u001b[0m\u001b[0m\n\u001b[1;32m    542\u001b[0m                 \u001b[0mcodec_options\u001b[0m\u001b[0;34m=\u001b[0m\u001b[0mself\u001b[0m\u001b[0;34m.\u001b[0m\u001b[0m__write_response_codec_options\u001b[0m\u001b[0;34m,\u001b[0m\u001b[0;34m\u001b[0m\u001b[0m\n\u001b[0;32m--> 543\u001b[0;31m                 check_keys=check_keys)\n\u001b[0m\u001b[1;32m    544\u001b[0m             \u001b[0m_check_write_command_response\u001b[0m\u001b[0;34m(\u001b[0m\u001b[0;34m[\u001b[0m\u001b[0;34m(\u001b[0m\u001b[0;36m0\u001b[0m\u001b[0;34m,\u001b[0m \u001b[0mresult\u001b[0m\u001b[0;34m)\u001b[0m\u001b[0;34m]\u001b[0m\u001b[0;34m)\u001b[0m\u001b[0;34m\u001b[0m\u001b[0m\n\u001b[1;32m    545\u001b[0m         \u001b[0;32melse\u001b[0m\u001b[0;34m:\u001b[0m\u001b[0;34m\u001b[0m\u001b[0m\n",
      "\u001b[0;32m~/anaconda/lib/python3.6/site-packages/pymongo/pool.py\u001b[0m in \u001b[0;36mcommand\u001b[0;34m(self, dbname, spec, slave_ok, read_preference, codec_options, check, allowable_errors, check_keys, read_concern, write_concern, parse_write_concern_error, collation)\u001b[0m\n\u001b[1;32m    422\u001b[0m         \u001b[0;31m# Catch socket.error, KeyboardInterrupt, etc. and close ourselves.\u001b[0m\u001b[0;34m\u001b[0m\u001b[0;34m\u001b[0m\u001b[0m\n\u001b[1;32m    423\u001b[0m         \u001b[0;32mexcept\u001b[0m \u001b[0mBaseException\u001b[0m \u001b[0;32mas\u001b[0m \u001b[0merror\u001b[0m\u001b[0;34m:\u001b[0m\u001b[0;34m\u001b[0m\u001b[0m\n\u001b[0;32m--> 424\u001b[0;31m             \u001b[0mself\u001b[0m\u001b[0;34m.\u001b[0m\u001b[0m_raise_connection_failure\u001b[0m\u001b[0;34m(\u001b[0m\u001b[0merror\u001b[0m\u001b[0;34m)\u001b[0m\u001b[0;34m\u001b[0m\u001b[0m\n\u001b[0m\u001b[1;32m    425\u001b[0m \u001b[0;34m\u001b[0m\u001b[0m\n\u001b[1;32m    426\u001b[0m     \u001b[0;32mdef\u001b[0m \u001b[0msend_message\u001b[0m\u001b[0;34m(\u001b[0m\u001b[0mself\u001b[0m\u001b[0;34m,\u001b[0m \u001b[0mmessage\u001b[0m\u001b[0;34m,\u001b[0m \u001b[0mmax_doc_size\u001b[0m\u001b[0;34m)\u001b[0m\u001b[0;34m:\u001b[0m\u001b[0;34m\u001b[0m\u001b[0m\n",
      "\u001b[0;32m~/anaconda/lib/python3.6/site-packages/pymongo/pool.py\u001b[0m in \u001b[0;36m_raise_connection_failure\u001b[0;34m(self, error)\u001b[0m\n\u001b[1;32m    550\u001b[0m             \u001b[0m_raise_connection_failure\u001b[0m\u001b[0;34m(\u001b[0m\u001b[0mself\u001b[0m\u001b[0;34m.\u001b[0m\u001b[0maddress\u001b[0m\u001b[0;34m,\u001b[0m \u001b[0merror\u001b[0m\u001b[0;34m)\u001b[0m\u001b[0;34m\u001b[0m\u001b[0m\n\u001b[1;32m    551\u001b[0m         \u001b[0;32melse\u001b[0m\u001b[0;34m:\u001b[0m\u001b[0;34m\u001b[0m\u001b[0m\n\u001b[0;32m--> 552\u001b[0;31m             \u001b[0;32mraise\u001b[0m \u001b[0merror\u001b[0m\u001b[0;34m\u001b[0m\u001b[0m\n\u001b[0m\u001b[1;32m    553\u001b[0m \u001b[0;34m\u001b[0m\u001b[0m\n\u001b[1;32m    554\u001b[0m     \u001b[0;32mdef\u001b[0m \u001b[0m__eq__\u001b[0m\u001b[0;34m(\u001b[0m\u001b[0mself\u001b[0m\u001b[0;34m,\u001b[0m \u001b[0mother\u001b[0m\u001b[0;34m)\u001b[0m\u001b[0;34m:\u001b[0m\u001b[0;34m\u001b[0m\u001b[0m\n",
      "\u001b[0;32m~/anaconda/lib/python3.6/site-packages/pymongo/pool.py\u001b[0m in \u001b[0;36mcommand\u001b[0;34m(self, dbname, spec, slave_ok, read_preference, codec_options, check, allowable_errors, check_keys, read_concern, write_concern, parse_write_concern_error, collation)\u001b[0m\n\u001b[1;32m    417\u001b[0m                            \u001b[0mread_concern\u001b[0m\u001b[0;34m,\u001b[0m\u001b[0;34m\u001b[0m\u001b[0m\n\u001b[1;32m    418\u001b[0m                            \u001b[0mparse_write_concern_error\u001b[0m\u001b[0;34m=\u001b[0m\u001b[0mparse_write_concern_error\u001b[0m\u001b[0;34m,\u001b[0m\u001b[0;34m\u001b[0m\u001b[0m\n\u001b[0;32m--> 419\u001b[0;31m                            collation=collation)\n\u001b[0m\u001b[1;32m    420\u001b[0m         \u001b[0;32mexcept\u001b[0m \u001b[0mOperationFailure\u001b[0m\u001b[0;34m:\u001b[0m\u001b[0;34m\u001b[0m\u001b[0m\n\u001b[1;32m    421\u001b[0m             \u001b[0;32mraise\u001b[0m\u001b[0;34m\u001b[0m\u001b[0m\n",
      "\u001b[0;32m~/anaconda/lib/python3.6/site-packages/pymongo/network.py\u001b[0m in \u001b[0;36mcommand\u001b[0;34m(sock, dbname, spec, slave_ok, is_mongos, read_preference, codec_options, check, allowable_errors, address, check_keys, listeners, max_bson_size, read_concern, parse_write_concern_error, collation)\u001b[0m\n\u001b[1;32m     92\u001b[0m \u001b[0;34m\u001b[0m\u001b[0m\n\u001b[1;32m     93\u001b[0m     request_id, msg, size = message.query(flags, ns, 0, -1, spec,\n\u001b[0;32m---> 94\u001b[0;31m                                           None, codec_options, check_keys)\n\u001b[0m\u001b[1;32m     95\u001b[0m \u001b[0;34m\u001b[0m\u001b[0m\n\u001b[1;32m     96\u001b[0m     if (max_bson_size is not None\n",
      "\u001b[0;31mInvalidDocument\u001b[0m: Cannot encode object: absoluteRating                                                                 0\nautoEntityId                                                              t54886\nbed                                                                          NaN\nbedStepside                                                                  NaN\nbodyType                                                                   Sedan\nbodyTypeGroupId                                                                6\nbodyTypeGroupName                                                          Sedan\nbodyTypeId                                                                    33\ncabin                                                                        NaN\ncarYear                                                                     2015\ncityFuelEconomy                                                              NaN\ncontacted                                                                  False\ndaysOnMarket                                                                 234\ndealScore                                                                1.52644\ndealerRatingPriceAdjustment                                                    0\ndistance                                                                       5\ndoors                                                                        NaN\nengineCylinders                                                               I4\nengineDisplacement                                                           2.5\nengineType                                                                    I4\nexpectedPrice                                                              16209\nexpectedPriceString                                                      $16,209\nexteriorColorName                                                          Brown\nfeaturedListingPartnerId                                                     NaN\nfleet                                                                      False\nframeDamaged                                                               False\nfranchiseMake                                                          Chevrolet\nfuelType                                                                       2\nhasAccidents                                                               False\nhighwayFuelEconomy                                                           NaN\n                                                     ...                        \npriceDifferentialString                                                   $2,211\npriceString                                                              $13,998\nrating                                                                         1\nrearWheel                                                                    NaN\nregressionPrice                                                            13998\nrootServiceProviderId                                                        NaN\nsalvage                                                                    False\nsaved                                                                      False\nsavingsAmount                                                               2211\nsavingsArrowImage              https://static1.cargurus.com/gfx/cargurus/inve...\nsavingsRecommendation                                                 Great Deal\nscaleMainPictureOnLoad                                                     False\nsellerCity                                                        Montgomery, WV\nsellerId                                                                 1011642\nsellerRating                                                                 NaN\nserviceProviderId                                                         402921\nserviceProviderName                                             Bridge Chevrolet\nspecificOptionIds                                                             []\nstyle                                                                        NaN\ntheftTitle                                                                 False\ntraction                                                                     NaN\ntransmission                                                                   A\ntrimLevelName                                                                   \ntrimName                                                                     LT2\nuseAnonymousContactEmail                                                   False\nvehicleDamageCategory                                                       None\nvehicleIdentifier                                              1G11D5SLXFF252351\nwheelSystem                                                                  FWD\nwheelSystemDisplay                                             Front-Wheel Drive\nzip                                                                        25040\nName: 0, Length: 92, dtype: object"
     ]
    }
   ],
   "source": [
    "collection.insert(cargurus_dict)"
   ]
  },
  {
   "cell_type": "code",
   "execution_count": 29,
   "metadata": {},
   "outputs": [
    {
     "data": {
      "text/plain": [
       "'1G11D5SLXFF252351'"
      ]
     },
     "execution_count": 29,
     "metadata": {},
     "output_type": "execute_result"
    }
   ],
   "source": [
    "list(cargurus_dict.keys())[0]"
   ]
  },
  {
   "cell_type": "code",
   "execution_count": 31,
   "metadata": {},
   "outputs": [
    {
     "ename": "TypeError",
     "evalue": "'ObjectId' object is not subscriptable",
     "output_type": "error",
     "traceback": [
      "\u001b[0;31m---------------------------------------------------------------------------\u001b[0m",
      "\u001b[0;31mTypeError\u001b[0m                                 Traceback (most recent call last)",
      "\u001b[0;32m<ipython-input-31-a318502be1c4>\u001b[0m in \u001b[0;36m<module>\u001b[0;34m()\u001b[0m\n\u001b[1;32m      1\u001b[0m \u001b[0mresult\u001b[0m \u001b[0;34m=\u001b[0m \u001b[0;34m[\u001b[0m\u001b[0;34m]\u001b[0m\u001b[0;34m\u001b[0m\u001b[0m\n\u001b[1;32m      2\u001b[0m \u001b[0;32mfor\u001b[0m \u001b[0mkey\u001b[0m \u001b[0;32min\u001b[0m \u001b[0mcargurus_dict\u001b[0m\u001b[0;34m.\u001b[0m\u001b[0mkeys\u001b[0m\u001b[0;34m(\u001b[0m\u001b[0;34m)\u001b[0m\u001b[0;34m:\u001b[0m\u001b[0;34m\u001b[0m\u001b[0m\n\u001b[0;32m----> 3\u001b[0;31m     \u001b[0mresult\u001b[0m\u001b[0;34m.\u001b[0m\u001b[0mappend\u001b[0m\u001b[0;34m(\u001b[0m\u001b[0mcargurus_dict\u001b[0m\u001b[0;34m[\u001b[0m\u001b[0mkey\u001b[0m\u001b[0;34m]\u001b[0m\u001b[0;34m[\u001b[0m\u001b[0;34m'absoluteRating'\u001b[0m\u001b[0;34m]\u001b[0m\u001b[0;34m)\u001b[0m\u001b[0;34m\u001b[0m\u001b[0m\n\u001b[0m\u001b[1;32m      4\u001b[0m \u001b[0;34m\u001b[0m\u001b[0m\n\u001b[1;32m      5\u001b[0m \u001b[0mresult\u001b[0m\u001b[0;34m\u001b[0m\u001b[0m\n",
      "\u001b[0;31mTypeError\u001b[0m: 'ObjectId' object is not subscriptable"
     ]
    }
   ],
   "source": [
    "result = []\n",
    "for key in cargurus_dict.keys():\n",
    "    result.append(cargurus_dict[key]['absoluteRating'])\n",
    "    \n",
    "result"
   ]
  }
 ],
 "metadata": {
  "kernelspec": {
   "display_name": "Python 3",
   "language": "python",
   "name": "python3"
  },
  "language_info": {
   "codemirror_mode": {
    "name": "ipython",
    "version": 3
   },
   "file_extension": ".py",
   "mimetype": "text/x-python",
   "name": "python",
   "nbconvert_exporter": "python",
   "pygments_lexer": "ipython3",
   "version": "3.6.0"
  }
 },
 "nbformat": 4,
 "nbformat_minor": 2
}
