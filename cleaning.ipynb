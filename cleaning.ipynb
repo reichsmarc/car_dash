{
 "cells": [
  {
   "cell_type": "code",
   "execution_count": 1,
   "metadata": {
    "collapsed": true
   },
   "outputs": [],
   "source": [
    "import requests\n",
    "import json\n",
    "import pandas as pd\n",
    "from random import randint\n",
    "import time\n",
    "import timeit\n",
    "import glob"
   ]
  },
  {
   "cell_type": "code",
   "execution_count": 2,
   "metadata": {
    "collapsed": true
   },
   "outputs": [],
   "source": [
    "path = !pwd"
   ]
  },
  {
   "cell_type": "code",
   "execution_count": 8,
   "metadata": {},
   "outputs": [
    {
     "name": "stdout",
     "output_type": "stream",
     "text": [
      "CPU times: user 6 µs, sys: 2 µs, total: 8 µs\n",
      "Wall time: 26.9 µs\n",
      "123960 cars scraped\n",
      "186376 cars scraped\n",
      "259602 cars scraped\n",
      "440192 cars scraped\n",
      "585946 cars scraped\n",
      "638840 cars scraped\n",
      "714321 cars scraped\n",
      "781506 cars scraped\n",
      "897128 cars scraped\n",
      "988985 cars scraped\n",
      "1088380 cars scraped\n",
      "1161126 cars scraped\n",
      "1242871 cars scraped\n",
      "1342494 cars scraped\n",
      "1418490 cars scraped\n",
      "1530629 cars scraped\n",
      "1631568 cars scraped\n",
      "1764745 cars scraped\n",
      "1830251 cars scraped\n",
      "CarGurus: 1830251 total cars\n"
     ]
    }
   ],
   "source": [
    "#cargurus \n",
    "cargurus_dir = glob.glob(path[0]+'/scrapers/data/cargurus/*.pkl')\n",
    "\n",
    "cargurus_dict = dict()\n",
    "%time for file in cargurus_dir:\n",
    "    df = pd.read_pickle(file)\n",
    "    for index,car in df.iterrows():\n",
    "        cargurus_dict[car.vehicleIdentifier] = car\n",
    "    \n",
    "    print(len(cargurus_dict.keys()),'cars loaded')\n",
    "\n",
    "print('CarGurus:',len(cargurus_dict.keys()),'cars loaded')"
   ]
  },
  {
   "cell_type": "code",
   "execution_count": null,
   "metadata": {
    "collapsed": true
   },
   "outputs": [],
   "source": [
    "cargurus = pd.DataFrame(cargurus)"
   ]
  },
  {
   "cell_type": "code",
   "execution_count": 9,
   "metadata": {},
   "outputs": [
    {
     "name": "stderr",
     "output_type": "stream",
     "text": [
      "IOPub data rate exceeded.\n",
      "The notebook server will temporarily stop sending output\n",
      "to the client in order to avoid crashing it.\n",
      "To change this limit, set the config variable\n",
      "`--NotebookApp.iopub_data_rate_limit`.\n"
     ]
    }
   ],
   "source": [
    "cargurus = pd.DataFrame(cargurus_dict)"
   ]
  },
  {
   "cell_type": "code",
   "execution_count": null,
   "metadata": {},
   "outputs": [],
   "source": [
    "#cargurus \n",
    "% time\n",
    "cargurus_dir = glob.glob(path[0]+'/scrapers/data/cargurus/*.pkl')\n",
    "\n",
    "cargurus_files = []\n",
    "for file in cargurus_dir:\n",
    "    cargurus_files.append(pd.read_pickle(file))\n",
    "\n",
    "cargurus = pd.concat(cargurus_files)\n",
    "\n",
    "print('CarGurus:',cargurus.shape[0],'cars')"
   ]
  },
  {
   "cell_type": "code",
   "execution_count": null,
   "metadata": {
    "collapsed": true
   },
   "outputs": [],
   "source": [
    "cargurus = cargurus.set_index('vehicleIdentifier')"
   ]
  },
  {
   "cell_type": "code",
   "execution_count": null,
   "metadata": {
    "collapsed": true
   },
   "outputs": [],
   "source": [
    "# cargurus.drop_duplicates(inplace=True,subset=['vehicleIdentifier'])"
   ]
  },
  {
   "cell_type": "code",
   "execution_count": null,
   "metadata": {},
   "outputs": [],
   "source": [
    "print('CarGurus:',cargurus.shape[0],'cars')"
   ]
  },
  {
   "cell_type": "code",
   "execution_count": null,
   "metadata": {},
   "outputs": [],
   "source": [
    "# vroom\n",
    "vroom_dir = glob.glob(path[0]+'/scrapers/data/vroom/*.pkl')\n",
    "\n",
    "vroom_files = []\n",
    "for file in vroom_dir:\n",
    "    vroom_files.append(pd.read_pickle(file))\n",
    "\n",
    "vroom = pd.concat(vroom_files)\n",
    "\n",
    "print('Vroom:',vroom.shape[0],'cars')"
   ]
  },
  {
   "cell_type": "code",
   "execution_count": null,
   "metadata": {},
   "outputs": [],
   "source": [
    "#carmax\n",
    "carmax_dir = glob.glob(path[0]+'/scrapers/data/carmax/*.pkl')\n",
    "\n",
    "carmax_files = []\n",
    "for file in carmax_dir:\n",
    "    carmax_files.append(pd.read_pickle(file))\n",
    "\n",
    "carmax = pd.concat(carmax_files)\n",
    "\n",
    "print('CarMax:',carmax.shape[0],'cars')"
   ]
  },
  {
   "cell_type": "code",
   "execution_count": null,
   "metadata": {},
   "outputs": [],
   "source": [
    "cargurus.describe()"
   ]
  }
 ],
 "metadata": {
  "kernelspec": {
   "display_name": "Python 3",
   "language": "python",
   "name": "python3"
  },
  "language_info": {
   "codemirror_mode": {
    "name": "ipython",
    "version": 3
   },
   "file_extension": ".py",
   "mimetype": "text/x-python",
   "name": "python",
   "nbconvert_exporter": "python",
   "pygments_lexer": "ipython3",
   "version": "3.6.0"
  }
 },
 "nbformat": 4,
 "nbformat_minor": 2
}
