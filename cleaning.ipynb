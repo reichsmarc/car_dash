{
 "cells": [
  {
   "cell_type": "code",
   "execution_count": 1,
   "metadata": {
    "collapsed": true
   },
   "outputs": [],
   "source": [
    "import requests\n",
    "import json\n",
    "import pandas as pd\n",
    "from random import randint\n",
    "import time\n",
    "import timeit\n",
    "import glob"
   ]
  },
  {
   "cell_type": "code",
   "execution_count": 2,
   "metadata": {
    "collapsed": true
   },
   "outputs": [],
   "source": [
    "path = !pwd"
   ]
  },
  {
   "cell_type": "code",
   "execution_count": 14,
   "metadata": {
    "collapsed": true
   },
   "outputs": [
    {
     "name": "stdout",
     "output_type": "stream",
     "text": [
      "123960 cars loaded...\n",
      "28.86 sec. elapsed...\n",
      "186376 cars loaded...\n",
      "6.06 sec. elapsed...\n"
     ]
    },
    {
     "name": "stderr",
     "output_type": "stream",
     "text": [
      "Exception ignored in: 'zmq.backend.cython.message.Frame.__dealloc__'\n",
      "Traceback (most recent call last):\n",
      "  File \"zmq/backend/cython/checkrc.pxd\", line 12, in zmq.backend.cython.checkrc._check_rc (zmq/backend/cython/message.c:4294)\n",
      "KeyboardInterrupt\n"
     ]
    },
    {
     "name": "stdout",
     "output_type": "stream",
     "text": [
      "259602 cars loaded...\n",
      "564.29 sec. elapsed...\n",
      "440192 cars loaded...\n",
      "25.83 sec. elapsed...\n",
      "585946 cars loaded...\n",
      "19.47 sec. elapsed...\n",
      "638840 cars loaded...\n",
      "5.62 sec. elapsed...\n",
      "714321 cars loaded...\n",
      "77.69 sec. elapsed...\n",
      "781506 cars loaded...\n",
      "10.48 sec. elapsed...\n"
     ]
    },
    {
     "ename": "KeyboardInterrupt",
     "evalue": "",
     "output_type": "error",
     "traceback": [
      "\u001b[0;31m---------------------------------------------------------------------------\u001b[0m",
      "\u001b[0;31mKeyboardInterrupt\u001b[0m                         Traceback (most recent call last)",
      "\u001b[0;32m<ipython-input-14-1ef19ddeb36a>\u001b[0m in \u001b[0;36m<module>\u001b[0;34m()\u001b[0m\n\u001b[1;32m      9\u001b[0m \u001b[0;34m\u001b[0m\u001b[0m\n\u001b[1;32m     10\u001b[0m     \u001b[0mdf\u001b[0m \u001b[0;34m=\u001b[0m \u001b[0mpd\u001b[0m\u001b[0;34m.\u001b[0m\u001b[0mread_pickle\u001b[0m\u001b[0;34m(\u001b[0m\u001b[0mfile\u001b[0m\u001b[0;34m)\u001b[0m\u001b[0;34m\u001b[0m\u001b[0m\n\u001b[0;32m---> 11\u001b[0;31m     \u001b[0;32mfor\u001b[0m \u001b[0mindex\u001b[0m\u001b[0;34m,\u001b[0m\u001b[0mcar\u001b[0m \u001b[0;32min\u001b[0m \u001b[0mdf\u001b[0m\u001b[0;34m.\u001b[0m\u001b[0miterrows\u001b[0m\u001b[0;34m(\u001b[0m\u001b[0;34m)\u001b[0m\u001b[0;34m:\u001b[0m\u001b[0;34m\u001b[0m\u001b[0m\n\u001b[0m\u001b[1;32m     12\u001b[0m         \u001b[0mcargurus_dict\u001b[0m\u001b[0;34m[\u001b[0m\u001b[0mcar\u001b[0m\u001b[0;34m.\u001b[0m\u001b[0mvehicleIdentifier\u001b[0m\u001b[0;34m]\u001b[0m \u001b[0;34m=\u001b[0m \u001b[0mcar\u001b[0m\u001b[0;34m\u001b[0m\u001b[0m\n\u001b[1;32m     13\u001b[0m \u001b[0;34m\u001b[0m\u001b[0m\n",
      "\u001b[0;32m~/anaconda/lib/python3.6/site-packages/pandas/core/frame.py\u001b[0m in \u001b[0;36miterrows\u001b[0;34m(self)\u001b[0m\n\u001b[1;32m    696\u001b[0m         \u001b[0mklass\u001b[0m \u001b[0;34m=\u001b[0m \u001b[0mself\u001b[0m\u001b[0;34m.\u001b[0m\u001b[0m_constructor_sliced\u001b[0m\u001b[0;34m\u001b[0m\u001b[0m\n\u001b[1;32m    697\u001b[0m         \u001b[0;32mfor\u001b[0m \u001b[0mk\u001b[0m\u001b[0;34m,\u001b[0m \u001b[0mv\u001b[0m \u001b[0;32min\u001b[0m \u001b[0mzip\u001b[0m\u001b[0;34m(\u001b[0m\u001b[0mself\u001b[0m\u001b[0;34m.\u001b[0m\u001b[0mindex\u001b[0m\u001b[0;34m,\u001b[0m \u001b[0mself\u001b[0m\u001b[0;34m.\u001b[0m\u001b[0mvalues\u001b[0m\u001b[0;34m)\u001b[0m\u001b[0;34m:\u001b[0m\u001b[0;34m\u001b[0m\u001b[0m\n\u001b[0;32m--> 698\u001b[0;31m             \u001b[0ms\u001b[0m \u001b[0;34m=\u001b[0m \u001b[0mklass\u001b[0m\u001b[0;34m(\u001b[0m\u001b[0mv\u001b[0m\u001b[0;34m,\u001b[0m \u001b[0mindex\u001b[0m\u001b[0;34m=\u001b[0m\u001b[0mcolumns\u001b[0m\u001b[0;34m,\u001b[0m \u001b[0mname\u001b[0m\u001b[0;34m=\u001b[0m\u001b[0mk\u001b[0m\u001b[0;34m)\u001b[0m\u001b[0;34m\u001b[0m\u001b[0m\n\u001b[0m\u001b[1;32m    699\u001b[0m             \u001b[0;32myield\u001b[0m \u001b[0mk\u001b[0m\u001b[0;34m,\u001b[0m \u001b[0ms\u001b[0m\u001b[0;34m\u001b[0m\u001b[0m\n\u001b[1;32m    700\u001b[0m \u001b[0;34m\u001b[0m\u001b[0m\n",
      "\u001b[0;32m~/anaconda/lib/python3.6/site-packages/pandas/core/series.py\u001b[0m in \u001b[0;36m__init__\u001b[0;34m(self, data, index, dtype, name, copy, fastpath)\u001b[0m\n\u001b[1;32m    248\u001b[0m                                        raise_cast_failure=True)\n\u001b[1;32m    249\u001b[0m \u001b[0;34m\u001b[0m\u001b[0m\n\u001b[0;32m--> 250\u001b[0;31m                 \u001b[0mdata\u001b[0m \u001b[0;34m=\u001b[0m \u001b[0mSingleBlockManager\u001b[0m\u001b[0;34m(\u001b[0m\u001b[0mdata\u001b[0m\u001b[0;34m,\u001b[0m \u001b[0mindex\u001b[0m\u001b[0;34m,\u001b[0m \u001b[0mfastpath\u001b[0m\u001b[0;34m=\u001b[0m\u001b[0;32mTrue\u001b[0m\u001b[0;34m)\u001b[0m\u001b[0;34m\u001b[0m\u001b[0m\n\u001b[0m\u001b[1;32m    251\u001b[0m \u001b[0;34m\u001b[0m\u001b[0m\n\u001b[1;32m    252\u001b[0m         \u001b[0mgeneric\u001b[0m\u001b[0;34m.\u001b[0m\u001b[0mNDFrame\u001b[0m\u001b[0;34m.\u001b[0m\u001b[0m__init__\u001b[0m\u001b[0;34m(\u001b[0m\u001b[0mself\u001b[0m\u001b[0;34m,\u001b[0m \u001b[0mdata\u001b[0m\u001b[0;34m,\u001b[0m \u001b[0mfastpath\u001b[0m\u001b[0;34m=\u001b[0m\u001b[0;32mTrue\u001b[0m\u001b[0;34m)\u001b[0m\u001b[0;34m\u001b[0m\u001b[0m\n",
      "\u001b[0;32m~/anaconda/lib/python3.6/site-packages/pandas/core/internals.py\u001b[0m in \u001b[0;36m__init__\u001b[0;34m(self, block, axis, do_integrity_check, fastpath)\u001b[0m\n\u001b[1;32m   4115\u001b[0m         \u001b[0;32mif\u001b[0m \u001b[0;32mnot\u001b[0m \u001b[0misinstance\u001b[0m\u001b[0;34m(\u001b[0m\u001b[0mblock\u001b[0m\u001b[0;34m,\u001b[0m \u001b[0mBlock\u001b[0m\u001b[0;34m)\u001b[0m\u001b[0;34m:\u001b[0m\u001b[0;34m\u001b[0m\u001b[0m\n\u001b[1;32m   4116\u001b[0m             block = make_block(block, placement=slice(0, len(axis)), ndim=1,\n\u001b[0;32m-> 4117\u001b[0;31m                                fastpath=True)\n\u001b[0m\u001b[1;32m   4118\u001b[0m \u001b[0;34m\u001b[0m\u001b[0m\n\u001b[1;32m   4119\u001b[0m         \u001b[0mself\u001b[0m\u001b[0;34m.\u001b[0m\u001b[0mblocks\u001b[0m \u001b[0;34m=\u001b[0m \u001b[0;34m[\u001b[0m\u001b[0mblock\u001b[0m\u001b[0;34m]\u001b[0m\u001b[0;34m\u001b[0m\u001b[0m\n",
      "\u001b[0;32m~/anaconda/lib/python3.6/site-packages/pandas/core/internals.py\u001b[0m in \u001b[0;36mmake_block\u001b[0;34m(values, placement, klass, ndim, dtype, fastpath)\u001b[0m\n\u001b[1;32m   2717\u001b[0m                      placement=placement, dtype=dtype)\n\u001b[1;32m   2718\u001b[0m \u001b[0;34m\u001b[0m\u001b[0m\n\u001b[0;32m-> 2719\u001b[0;31m     \u001b[0;32mreturn\u001b[0m \u001b[0mklass\u001b[0m\u001b[0;34m(\u001b[0m\u001b[0mvalues\u001b[0m\u001b[0;34m,\u001b[0m \u001b[0mndim\u001b[0m\u001b[0;34m=\u001b[0m\u001b[0mndim\u001b[0m\u001b[0;34m,\u001b[0m \u001b[0mfastpath\u001b[0m\u001b[0;34m=\u001b[0m\u001b[0mfastpath\u001b[0m\u001b[0;34m,\u001b[0m \u001b[0mplacement\u001b[0m\u001b[0;34m=\u001b[0m\u001b[0mplacement\u001b[0m\u001b[0;34m)\u001b[0m\u001b[0;34m\u001b[0m\u001b[0m\n\u001b[0m\u001b[1;32m   2720\u001b[0m \u001b[0;34m\u001b[0m\u001b[0m\n\u001b[1;32m   2721\u001b[0m \u001b[0;31m# TODO: flexible with index=None and/or items=None\u001b[0m\u001b[0;34m\u001b[0m\u001b[0;34m\u001b[0m\u001b[0m\n",
      "\u001b[0;32m~/anaconda/lib/python3.6/site-packages/pandas/core/internals.py\u001b[0m in \u001b[0;36m__init__\u001b[0;34m(self, values, ndim, fastpath, placement, **kwargs)\u001b[0m\n\u001b[1;32m   1842\u001b[0m \u001b[0;34m\u001b[0m\u001b[0m\n\u001b[1;32m   1843\u001b[0m         super(ObjectBlock, self).__init__(values, ndim=ndim, fastpath=fastpath,\n\u001b[0;32m-> 1844\u001b[0;31m                                           placement=placement, **kwargs)\n\u001b[0m\u001b[1;32m   1845\u001b[0m \u001b[0;34m\u001b[0m\u001b[0m\n\u001b[1;32m   1846\u001b[0m     \u001b[0;34m@\u001b[0m\u001b[0mproperty\u001b[0m\u001b[0;34m\u001b[0m\u001b[0m\n",
      "\u001b[0;31mKeyboardInterrupt\u001b[0m: "
     ]
    }
   ],
   "source": [
    "# CarGurus -- Deduplication with Dictionary Method\n",
    "t0 = timeit.default_timer() # start timer\n",
    "\n",
    "cargurus_dir = glob.glob(path[0]+'/scrapers/data/cargurus/*.pkl')\n",
    "\n",
    "cargurus_dict = dict()\n",
    "for file in cargurus_dir:\n",
    "    t1 = timeit.default_timer()\n",
    "\n",
    "    df = pd.read_pickle(file)\n",
    "    for index,car in df.iterrows():\n",
    "        cargurus_dict[car.vehicleIdentifier] = car\n",
    "    \n",
    "    print(len(cargurus_dict.keys()),'cars loaded...')\n",
    "    print(round(timeit.default_timer() - t1,2),\"sec.\")\n",
    "\n",
    "print('CarGurus:',len(cargurus_dict.keys()),'cars loaded total.')\n",
    "print(round(timeit.default_timer() - t0,2),\"sec. elapsed total.\")\n",
    "print('---------------------------\\n')\n",
    "print('Saving dataframe...')\n",
    "t2 = timeit.default_timer()\n",
    "cargurus = pd.DataFrame(cargurus_dict)\n",
    "print(round(timeit.default_timer() - t2,2),\"sec.\")\n",
    "print('---------------------------\\n')\n",
    "t3 = timeit.default_timer()\n",
    "print('Pickling dataframe...')\n",
    "cargurus.to_pickle('cargurus.pkl')\n",
    "print(round(timeit.default_timer() - t3,2),\"sec.\")\n",
    "print('---------------------------\\n')\n",
    "print(round(timeit.default_timer() - t0,2),\"sec. elapsed total.\")"
   ]
  },
  {
   "cell_type": "code",
   "execution_count": null,
   "metadata": {
    "scrolled": true
   },
   "outputs": [
    {
     "name": "stdout",
     "output_type": "stream",
     "text": [
      "123960 cars loaded...\n",
      "1.84 sec.\n",
      "186376 cars loaded...\n",
      "1.25 sec.\n",
      "259602 cars loaded...\n",
      "1.59 sec.\n",
      "442754 cars loaded...\n",
      "3.53 sec.\n",
      "588550 cars loaded...\n",
      "2.75 sec.\n",
      "643099 cars loaded...\n",
      "0.92 sec.\n",
      "719953 cars loaded...\n",
      "1.47 sec.\n",
      "789270 cars loaded...\n",
      "1.1 sec.\n",
      "912376 cars loaded...\n",
      "2.25 sec.\n",
      "1007909 cars loaded...\n",
      "1.66 sec.\n",
      "1114046 cars loaded...\n",
      "2.02 sec.\n",
      "1204209 cars loaded...\n",
      "1.47 sec.\n",
      "1287250 cars loaded...\n",
      "1.31 sec.\n",
      "1396677 cars loaded...\n",
      "2.29 sec.\n",
      "1472832 cars loaded...\n",
      "1.45 sec.\n",
      "1586479 cars loaded...\n",
      "2.46 sec.\n",
      "1694839 cars loaded...\n",
      "2.8 sec.\n",
      "1853692 cars loaded...\n",
      "5.87 sec.\n",
      "1953027 cars loaded...\n",
      "3.12 sec.\n",
      "CarGurus: 1953027 cars (before deduplication)\n",
      "109.89 sec. elapsed.\n",
      "Deduplicating...\n"
     ]
    }
   ],
   "source": [
    "# CarGurus -- Deduplication with pd.drop_duplicates\n",
    "t0 = timeit.default_timer() # start timer\n",
    "\n",
    "cargurus_dir = glob.glob(path[0]+'/scrapers/data/cargurus/*.pkl')\n",
    "\n",
    "cargurus_files = []\n",
    "ct = 0\n",
    "for file in cargurus_dir:\n",
    "    t1 = timeit.default_timer()\n",
    "    \n",
    "    df = pd.read_pickle(file)\n",
    "    cargurus_files.append(df)\n",
    "    ct += df.shape[0]\n",
    "    \n",
    "    print(ct,'cars loaded...')\n",
    "    print(round(timeit.default_timer() - t1,2),\"sec.\")\n",
    "\n",
    "print('Concatenating dataframes...')\n",
    "cargurus = pd.concat(cargurus_files)\n",
    "print('CarGurus:',cargurus.shape[0],'cars (before deduplication)')\n",
    "print(round(timeit.default_timer() - t0,2),\"sec. elapsed.\")\n",
    "\n",
    "t2 = timeit.default_timer()\n",
    "print('Deduplicating...')\n",
    "cargurus.drop_duplicates(inplace=True,subset=['vehicleIdentifier'])\n",
    "print(round(timeit.default_timer() - t2,2),\"sec. elapsed.\")\n",
    "print('CarGurus:',cargurus.shape[0],'cars loaded total.')\n",
    "\n",
    "t3 = timeit.default_timer()\n",
    "print('---------------------------\\n')\n",
    "print('Pickling dataframe...')\n",
    "cargurus.to_pickle('cargurus2.pkl')\n",
    "print(round(timeit.default_timer() - t3,2),\"sec.\")\n",
    "print('---------------------------\\n')\n",
    "print(round(timeit.default_timer() - t0,2),\"sec. elapsed total.\")"
   ]
  },
  {
   "cell_type": "code",
   "execution_count": null,
   "metadata": {
    "collapsed": true
   },
   "outputs": [],
   "source": []
  },
  {
   "cell_type": "code",
   "execution_count": null,
   "metadata": {
    "collapsed": true
   },
   "outputs": [],
   "source": []
  },
  {
   "cell_type": "code",
   "execution_count": null,
   "metadata": {},
   "outputs": [],
   "source": [
    "# vroom\n",
    "vroom_dir = glob.glob(path[0]+'/scrapers/data/vroom/*.pkl')\n",
    "\n",
    "vroom_files = []\n",
    "for file in vroom_dir:\n",
    "    vroom_files.append(pd.read_pickle(file))\n",
    "\n",
    "vroom = pd.concat(vroom_files)\n",
    "\n",
    "print('Vroom:',vroom.shape[0],'cars')"
   ]
  },
  {
   "cell_type": "code",
   "execution_count": null,
   "metadata": {},
   "outputs": [],
   "source": [
    "#carmax\n",
    "carmax_dir = glob.glob(path[0]+'/scrapers/data/carmax/*.pkl')\n",
    "\n",
    "carmax_files = []\n",
    "for file in carmax_dir:\n",
    "    carmax_files.append(pd.read_pickle(file))\n",
    "\n",
    "carmax = pd.concat(carmax_files)\n",
    "\n",
    "print('CarMax:',carmax.shape[0],'cars')"
   ]
  },
  {
   "cell_type": "code",
   "execution_count": null,
   "metadata": {},
   "outputs": [],
   "source": [
    "cargurus.describe()"
   ]
  }
 ],
 "metadata": {
  "kernelspec": {
   "display_name": "Python 3",
   "language": "python",
   "name": "python3"
  },
  "language_info": {
   "codemirror_mode": {
    "name": "ipython",
    "version": 3
   },
   "file_extension": ".py",
   "mimetype": "text/x-python",
   "name": "python",
   "nbconvert_exporter": "python",
   "pygments_lexer": "ipython3",
   "version": "3.6.0"
  }
 },
 "nbformat": 4,
 "nbformat_minor": 2
}
